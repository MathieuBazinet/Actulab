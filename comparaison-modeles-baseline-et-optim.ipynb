{
 "cells": [
  {
   "cell_type": "code",
   "execution_count": 1,
   "metadata": {},
   "outputs": [],
   "source": [
    "from Fairness_aware_model import FairnessAwareModel\n",
    "import pandas as pd\n",
    "import numpy as np\n",
    "import statsmodels.api as sm\n",
    "import statsmodels.formula.api as smf\n",
    "from sklearn.model_selection import train_test_split"
   ]
  },
  {
   "cell_type": "code",
   "execution_count": 2,
   "metadata": {},
   "outputs": [],
   "source": [
    "dataCar = pd.read_csv('dataCar_clean.csv') # contient le train-test split pour comparer avec R au besoin\n",
    "#clm = dataCar['clm']\n",
    "#Xtrain, test, _, _ = train_test_split(dataCar, clm, test_size=0.2)\n",
    "train=dataCar.loc[dataCar['train']==1]\n",
    "test=dataCar.loc[dataCar['train']==0]"
   ]
  },
  {
   "cell_type": "markdown",
   "metadata": {},
   "source": [
    "# Modèle baseline avec la méthode bfgs"
   ]
  },
  {
   "cell_type": "code",
   "execution_count": 3,
   "metadata": {},
   "outputs": [
    {
     "name": "stdout",
     "output_type": "stream",
     "text": [
      "                 Generalized Linear Model Regression Results                  \n",
      "==============================================================================\n",
      "Dep. Variable:                    clm   No. Observations:                54285\n",
      "Model:                            GLM   Df Residuals:                    54257\n",
      "Model Family:                Binomial   Df Model:                           27\n",
      "Link Function:                  Logit   Scale:                          1.0000\n",
      "Method:                          bfgs   Log-Likelihood:                -13435.\n",
      "Date:                Mon, 14 Nov 2022   Deviance:                       26870.\n",
      "Time:                        09:14:21   Pearson chi2:                 5.43e+04\n",
      "No. Iterations:                     0   Pseudo R-squ. (CS):           0.002612\n",
      "Covariance Type:            nonrobust                                         \n",
      "=====================================================================================\n",
      "                        coef    std err          z      P>|z|      [0.025      0.975]\n",
      "-------------------------------------------------------------------------------------\n",
      "Intercept            -1.9774      0.488     -4.056      0.000      -2.933      -1.022\n",
      "veh_body[T.CONVT]    -1.7291      0.852     -2.030      0.042      -3.399      -0.059\n",
      "veh_body[T.COUPE]    -0.3197      0.500     -0.640      0.522      -1.299       0.659\n",
      "veh_body[T.HBACK]    -0.5890      0.480     -1.227      0.220      -1.530       0.352\n",
      "veh_body[T.HDTOP]    -0.4275      0.489     -0.874      0.382      -1.386       0.531\n",
      "veh_body[T.MCARA]     0.0627      0.570      0.110      0.912      -1.054       1.179\n",
      "veh_body[T.MIBUS]    -0.6206      0.509     -1.220      0.222      -1.617       0.376\n",
      "veh_body[T.PANVN]    -0.3478      0.501     -0.695      0.487      -1.329       0.633\n",
      "veh_body[T.RDSTR]    -0.5263      0.881     -0.597      0.550      -2.253       1.200\n",
      "veh_body[T.SEDAN]    -0.5634      0.479     -1.175      0.240      -1.503       0.376\n",
      "veh_body[T.STNWG]    -0.5148      0.479     -1.074      0.283      -1.454       0.425\n",
      "veh_body[T.TRUCK]    -0.5182      0.489     -1.060      0.289      -1.477       0.440\n",
      "veh_body[T.UTE]      -0.7684      0.483     -1.590      0.112      -1.715       0.179\n",
      "C(veh_age)[T.2]       0.1908      0.054      3.529      0.000       0.085       0.297\n",
      "C(veh_age)[T.3]       0.1331      0.058      2.298      0.022       0.020       0.247\n",
      "C(veh_age)[T.4]       0.0639      0.068      0.942      0.346      -0.069       0.197\n",
      "area[T.B]             0.0994      0.052      1.926      0.054      -0.002       0.200\n",
      "area[T.C]             0.0523      0.047      1.116      0.264      -0.040       0.144\n",
      "area[T.D]            -0.0879      0.063     -1.391      0.164      -0.212       0.036\n",
      "area[T.E]            -0.0159      0.070     -0.228      0.820      -0.152       0.121\n",
      "area[T.F]             0.0691      0.081      0.850      0.395      -0.090       0.228\n",
      "gender[T.M]          -0.0310      0.036     -0.857      0.391      -0.102       0.040\n",
      "C(agecat)[T.2]       -0.2255      0.065     -3.479      0.001      -0.352      -0.098\n",
      "C(agecat)[T.3]       -0.2731      0.063     -4.314      0.000      -0.397      -0.149\n",
      "C(agecat)[T.4]       -0.2925      0.063     -4.634      0.000      -0.416      -0.169\n",
      "C(agecat)[T.5]       -0.4820      0.070     -6.854      0.000      -0.620      -0.344\n",
      "C(agecat)[T.6]       -0.5393      0.081     -6.626      0.000      -0.699      -0.380\n",
      "veh_value             0.0536      0.020      2.670      0.008       0.014       0.093\n",
      "=====================================================================================\n"
     ]
    }
   ],
   "source": [
    "mod = smf.glm(formula=\"clm ~ veh_value + veh_body + C(veh_age) + area + gender + C(agecat)\", family=sm.families.Binomial(), data=train)\n",
    "res = mod.fit(method=\"bfgs\")\n",
    "print(res.summary()) # donne la même chose qu'en R"
   ]
  },
  {
   "cell_type": "code",
   "execution_count": 4,
   "metadata": {},
   "outputs": [],
   "source": [
    "protected_attributes = [\"gender\", \"agecat\"]\n",
    "# Standard scaling for regression\n",
    "binary_answer = dataCar[\"clm\"].values\n",
    "numclaim = dataCar[\"numclaims\"].values\n",
    "reg_claim = dataCar[\"claimcst0\"].values"
   ]
  },
  {
   "cell_type": "code",
   "execution_count": 5,
   "metadata": {},
   "outputs": [],
   "source": [
    "def hot_encoder(data, optional_columns):\n",
    "    categorical_cols = []\n",
    "    for column in data.columns:\n",
    "            if data[column].dtype == object or column in optional_columns:\n",
    "                categorical_cols.append(column)\n",
    "\n",
    "    to_return = pd.get_dummies(data, columns = categorical_cols)\n",
    "    return to_return\n",
    "\n",
    "dataCar_encoded = hot_encoder(dataCar, [\"gender\", \"agecat\"])\n",
    "\n",
    "dataCar_encoded = dataCar_encoded.drop([\"clm\", \"numclaims\", \"claimcst0\", \"veh_body_BUS\",\"area_A\",\"exposure\", \"gender_F\", \"agecat_1\"], axis=1)"
   ]
  },
  {
   "cell_type": "code",
   "execution_count": 6,
   "metadata": {},
   "outputs": [],
   "source": [
    "train_encoded = dataCar_encoded.loc[dataCar_encoded['train']==1]\n",
    "test_encoded = dataCar_encoded.loc[dataCar_encoded['train']==0]\n",
    "y = dataCar['clm']\n",
    "\n",
    "y_train = dataCar.loc[dataCar['train']==1, 'clm']\n",
    "y_test = dataCar.loc[dataCar['train']==0, 'clm']\n",
    "X_train_encoded = train_encoded.drop([\"train\"], axis=1)\n",
    "X_test_encoded = test_encoded.drop([\"train\"], axis=1)"
   ]
  },
  {
   "cell_type": "code",
   "execution_count": 7,
   "metadata": {},
   "outputs": [],
   "source": [
    "protected_attributes = [np.where(dataCar.columns.values == i)[0][0] for i in protected_attributes] # position des colonnes d'attributs protégés dans les données"
   ]
  },
  {
   "cell_type": "code",
   "execution_count": 8,
   "metadata": {},
   "outputs": [
    {
     "name": "stdout",
     "output_type": "stream",
     "text": [
      "Warning: Desired error not necessarily achieved due to precision loss.\n",
      "         Current function value: 13442.990079\n",
      "         Iterations: 43\n",
      "         Function evaluations: 1485\n",
      "         Gradient evaluations: 55\n"
     ]
    }
   ],
   "source": [
    "fam = FairnessAwareModel(regularization=0, protected_attributes=protected_attributes, family=\"binomial\", offset=1)\n",
    "fam.fit(np.column_stack([np.ones(X_train_encoded.shape[0]), np.array(X_train_encoded)]), y_train.values) # il faut inclute un \"intercept\", donc colonne de 1"
   ]
  },
  {
   "cell_type": "markdown",
   "metadata": {},
   "source": [
    "# Comparaison avec `statsmodel`"
   ]
  },
  {
   "cell_type": "code",
   "execution_count": 9,
   "metadata": {},
   "outputs": [
    {
     "name": "stdout",
     "output_type": "stream",
     "text": [
      "Optimization terminated successfully.\n",
      "         Current function value: 0.247637\n",
      "         Iterations 8\n"
     ]
    }
   ],
   "source": [
    "model2 = sm.Logit(y_train, sm.add_constant(X_train_encoded)).fit()"
   ]
  },
  {
   "cell_type": "code",
   "execution_count": 12,
   "metadata": {},
   "outputs": [
    {
     "name": "stdout",
     "output_type": "stream",
     "text": [
      "                           Logit Regression Results                           \n",
      "==============================================================================\n",
      "Dep. Variable:                    clm   No. Observations:                54285\n",
      "Model:                          Logit   Df Residuals:                    54259\n",
      "Method:                           MLE   Df Model:                           25\n",
      "Date:                Mon, 14 Nov 2022   Pseudo R-squ.:                0.004681\n",
      "Time:                        09:15:08   Log-Likelihood:                -13443.\n",
      "converged:                       True   LL-Null:                       -13506.\n",
      "Covariance Type:            nonrobust   LLR p-value:                 1.596e-15\n",
      "==================================================================================\n",
      "                     coef    std err          z      P>|z|      [0.025      0.975]\n",
      "----------------------------------------------------------------------------------\n",
      "const             -1.8913      0.489     -3.865      0.000      -2.850      -0.932\n",
      "veh_value          0.0574      0.020      2.906      0.004       0.019       0.096\n",
      "veh_age            0.0078      0.021      0.368      0.713      -0.034       0.049\n",
      "veh_body_CONVT    -1.8669      0.877     -2.129      0.033      -3.586      -0.148\n",
      "veh_body_COUPE    -0.3475      0.499     -0.697      0.486      -1.325       0.630\n",
      "veh_body_HBACK    -0.5898      0.479     -1.231      0.218      -1.529       0.349\n",
      "veh_body_HDTOP    -0.4349      0.488     -0.891      0.373      -1.392       0.522\n",
      "veh_body_MCARA     0.0546      0.569      0.096      0.923      -1.060       1.169\n",
      "veh_body_MIBUS    -0.6481      0.508     -1.276      0.202      -1.643       0.347\n",
      "veh_body_PANVN    -0.3502      0.500     -0.701      0.483      -1.330       0.629\n",
      "veh_body_RDSTR    -0.5759      0.880     -0.654      0.513      -2.301       1.149\n",
      "veh_body_SEDAN    -0.5629      0.479     -1.176      0.239      -1.501       0.375\n",
      "veh_body_STNWG    -0.5267      0.479     -1.101      0.271      -1.465       0.411\n",
      "veh_body_TRUCK    -0.5293      0.488     -1.084      0.278      -1.486       0.428\n",
      "veh_body_UTE      -0.7801      0.482     -1.617      0.106      -1.725       0.165\n",
      "gender_M          -0.0349      0.036     -0.966      0.334      -0.106       0.036\n",
      "area_B             0.0993      0.052      1.925      0.054      -0.002       0.200\n",
      "area_C             0.0528      0.047      1.128      0.259      -0.039       0.145\n",
      "area_D            -0.0902      0.063     -1.428      0.153      -0.214       0.034\n",
      "area_E            -0.0172      0.070     -0.247      0.805      -0.154       0.119\n",
      "area_F             0.0705      0.081      0.868      0.385      -0.089       0.230\n",
      "agecat_2          -0.2245      0.065     -3.467      0.001      -0.351      -0.098\n",
      "agecat_3          -0.2738      0.063     -4.329      0.000      -0.398      -0.150\n",
      "agecat_4          -0.2944      0.063     -4.666      0.000      -0.418      -0.171\n",
      "agecat_5          -0.4851      0.070     -6.903      0.000      -0.623      -0.347\n",
      "agecat_6          -0.5414      0.081     -6.658      0.000      -0.701      -0.382\n",
      "==================================================================================\n"
     ]
    }
   ],
   "source": [
    "print(model2.summary())"
   ]
  },
  {
   "cell_type": "code",
   "execution_count": 10,
   "metadata": {},
   "outputs": [
    {
     "data": {
      "text/html": [
       "<div>\n",
       "<style scoped>\n",
       "    .dataframe tbody tr th:only-of-type {\n",
       "        vertical-align: middle;\n",
       "    }\n",
       "\n",
       "    .dataframe tbody tr th {\n",
       "        vertical-align: top;\n",
       "    }\n",
       "\n",
       "    .dataframe thead th {\n",
       "        text-align: right;\n",
       "    }\n",
       "</style>\n",
       "<table border=\"1\" class=\"dataframe\">\n",
       "  <thead>\n",
       "    <tr style=\"text-align: right;\">\n",
       "      <th></th>\n",
       "      <th>variable</th>\n",
       "      <th>beta</th>\n",
       "      <th>beta_statsnodel</th>\n",
       "    </tr>\n",
       "  </thead>\n",
       "  <tbody>\n",
       "    <tr>\n",
       "      <th>const</th>\n",
       "      <td>intercept</td>\n",
       "      <td>-1.891240</td>\n",
       "      <td>-1.891278</td>\n",
       "    </tr>\n",
       "    <tr>\n",
       "      <th>veh_value</th>\n",
       "      <td>veh_value</td>\n",
       "      <td>0.057412</td>\n",
       "      <td>0.057412</td>\n",
       "    </tr>\n",
       "    <tr>\n",
       "      <th>veh_age</th>\n",
       "      <td>veh_age</td>\n",
       "      <td>0.007808</td>\n",
       "      <td>0.007808</td>\n",
       "    </tr>\n",
       "    <tr>\n",
       "      <th>veh_body_CONVT</th>\n",
       "      <td>veh_body_CONVT</td>\n",
       "      <td>-1.866971</td>\n",
       "      <td>-1.866944</td>\n",
       "    </tr>\n",
       "    <tr>\n",
       "      <th>veh_body_COUPE</th>\n",
       "      <td>veh_body_COUPE</td>\n",
       "      <td>-0.347521</td>\n",
       "      <td>-0.347482</td>\n",
       "    </tr>\n",
       "    <tr>\n",
       "      <th>veh_body_HBACK</th>\n",
       "      <td>veh_body_HBACK</td>\n",
       "      <td>-0.589881</td>\n",
       "      <td>-0.589844</td>\n",
       "    </tr>\n",
       "    <tr>\n",
       "      <th>veh_body_HDTOP</th>\n",
       "      <td>veh_body_HDTOP</td>\n",
       "      <td>-0.434935</td>\n",
       "      <td>-0.434897</td>\n",
       "    </tr>\n",
       "    <tr>\n",
       "      <th>veh_body_MCARA</th>\n",
       "      <td>veh_body_MCARA</td>\n",
       "      <td>0.054582</td>\n",
       "      <td>0.054627</td>\n",
       "    </tr>\n",
       "    <tr>\n",
       "      <th>veh_body_MIBUS</th>\n",
       "      <td>veh_body_MIBUS</td>\n",
       "      <td>-0.648116</td>\n",
       "      <td>-0.648079</td>\n",
       "    </tr>\n",
       "    <tr>\n",
       "      <th>veh_body_PANVN</th>\n",
       "      <td>veh_body_PANVN</td>\n",
       "      <td>-0.350230</td>\n",
       "      <td>-0.350192</td>\n",
       "    </tr>\n",
       "    <tr>\n",
       "      <th>veh_body_RDSTR</th>\n",
       "      <td>veh_body_RDSTR</td>\n",
       "      <td>-0.575911</td>\n",
       "      <td>-0.575863</td>\n",
       "    </tr>\n",
       "    <tr>\n",
       "      <th>veh_body_SEDAN</th>\n",
       "      <td>veh_body_SEDAN</td>\n",
       "      <td>-0.562959</td>\n",
       "      <td>-0.562922</td>\n",
       "    </tr>\n",
       "    <tr>\n",
       "      <th>veh_body_STNWG</th>\n",
       "      <td>veh_body_STNWG</td>\n",
       "      <td>-0.526711</td>\n",
       "      <td>-0.526675</td>\n",
       "    </tr>\n",
       "    <tr>\n",
       "      <th>veh_body_TRUCK</th>\n",
       "      <td>veh_body_TRUCK</td>\n",
       "      <td>-0.529290</td>\n",
       "      <td>-0.529253</td>\n",
       "    </tr>\n",
       "    <tr>\n",
       "      <th>veh_body_UTE</th>\n",
       "      <td>veh_body_UTE</td>\n",
       "      <td>-0.780115</td>\n",
       "      <td>-0.780079</td>\n",
       "    </tr>\n",
       "    <tr>\n",
       "      <th>gender_M</th>\n",
       "      <td>gender_M</td>\n",
       "      <td>-0.034863</td>\n",
       "      <td>-0.034863</td>\n",
       "    </tr>\n",
       "    <tr>\n",
       "      <th>area_B</th>\n",
       "      <td>area_B</td>\n",
       "      <td>0.099312</td>\n",
       "      <td>0.099312</td>\n",
       "    </tr>\n",
       "    <tr>\n",
       "      <th>area_C</th>\n",
       "      <td>area_C</td>\n",
       "      <td>0.052815</td>\n",
       "      <td>0.052815</td>\n",
       "    </tr>\n",
       "    <tr>\n",
       "      <th>area_D</th>\n",
       "      <td>area_D</td>\n",
       "      <td>-0.090240</td>\n",
       "      <td>-0.090240</td>\n",
       "    </tr>\n",
       "    <tr>\n",
       "      <th>area_E</th>\n",
       "      <td>area_E</td>\n",
       "      <td>-0.017174</td>\n",
       "      <td>-0.017174</td>\n",
       "    </tr>\n",
       "    <tr>\n",
       "      <th>area_F</th>\n",
       "      <td>area_F</td>\n",
       "      <td>0.070535</td>\n",
       "      <td>0.070535</td>\n",
       "    </tr>\n",
       "    <tr>\n",
       "      <th>agecat_2</th>\n",
       "      <td>agecat_2</td>\n",
       "      <td>-0.224501</td>\n",
       "      <td>-0.224501</td>\n",
       "    </tr>\n",
       "    <tr>\n",
       "      <th>agecat_3</th>\n",
       "      <td>agecat_3</td>\n",
       "      <td>-0.273813</td>\n",
       "      <td>-0.273813</td>\n",
       "    </tr>\n",
       "    <tr>\n",
       "      <th>agecat_4</th>\n",
       "      <td>agecat_4</td>\n",
       "      <td>-0.294366</td>\n",
       "      <td>-0.294366</td>\n",
       "    </tr>\n",
       "    <tr>\n",
       "      <th>agecat_5</th>\n",
       "      <td>agecat_5</td>\n",
       "      <td>-0.485139</td>\n",
       "      <td>-0.485139</td>\n",
       "    </tr>\n",
       "    <tr>\n",
       "      <th>agecat_6</th>\n",
       "      <td>agecat_6</td>\n",
       "      <td>-0.541433</td>\n",
       "      <td>-0.541433</td>\n",
       "    </tr>\n",
       "  </tbody>\n",
       "</table>\n",
       "</div>"
      ],
      "text/plain": [
       "                      variable      beta  beta_statsnodel\n",
       "const                intercept -1.891240        -1.891278\n",
       "veh_value            veh_value  0.057412         0.057412\n",
       "veh_age                veh_age  0.007808         0.007808\n",
       "veh_body_CONVT  veh_body_CONVT -1.866971        -1.866944\n",
       "veh_body_COUPE  veh_body_COUPE -0.347521        -0.347482\n",
       "veh_body_HBACK  veh_body_HBACK -0.589881        -0.589844\n",
       "veh_body_HDTOP  veh_body_HDTOP -0.434935        -0.434897\n",
       "veh_body_MCARA  veh_body_MCARA  0.054582         0.054627\n",
       "veh_body_MIBUS  veh_body_MIBUS -0.648116        -0.648079\n",
       "veh_body_PANVN  veh_body_PANVN -0.350230        -0.350192\n",
       "veh_body_RDSTR  veh_body_RDSTR -0.575911        -0.575863\n",
       "veh_body_SEDAN  veh_body_SEDAN -0.562959        -0.562922\n",
       "veh_body_STNWG  veh_body_STNWG -0.526711        -0.526675\n",
       "veh_body_TRUCK  veh_body_TRUCK -0.529290        -0.529253\n",
       "veh_body_UTE      veh_body_UTE -0.780115        -0.780079\n",
       "gender_M              gender_M -0.034863        -0.034863\n",
       "area_B                  area_B  0.099312         0.099312\n",
       "area_C                  area_C  0.052815         0.052815\n",
       "area_D                  area_D -0.090240        -0.090240\n",
       "area_E                  area_E -0.017174        -0.017174\n",
       "area_F                  area_F  0.070535         0.070535\n",
       "agecat_2              agecat_2 -0.224501        -0.224501\n",
       "agecat_3              agecat_3 -0.273813        -0.273813\n",
       "agecat_4              agecat_4 -0.294366        -0.294366\n",
       "agecat_5              agecat_5 -0.485139        -0.485139\n",
       "agecat_6              agecat_6 -0.541433        -0.541433"
      ]
     },
     "execution_count": 10,
     "metadata": {},
     "output_type": "execute_result"
    }
   ],
   "source": [
    "pd.DataFrame({\"variable\":[\"intercept\"] + X_train_encoded.columns.tolist(), \"beta\":fam.beta, \"beta_statsnodel\":model2.params})"
   ]
  }
 ],
 "metadata": {
  "kernelspec": {
   "display_name": "Python 3.9.13 ('actulab')",
   "language": "python",
   "name": "python3"
  },
  "language_info": {
   "codemirror_mode": {
    "name": "ipython",
    "version": 3
   },
   "file_extension": ".py",
   "mimetype": "text/x-python",
   "name": "python",
   "nbconvert_exporter": "python",
   "pygments_lexer": "ipython3",
   "version": "3.9.13"
  },
  "orig_nbformat": 4,
  "vscode": {
   "interpreter": {
    "hash": "be9bacc2144169552f8aa68a7e2d5fa413cf6ea98a4dca6b00db2e208c4acfe4"
   }
  }
 },
 "nbformat": 4,
 "nbformat_minor": 2
}
