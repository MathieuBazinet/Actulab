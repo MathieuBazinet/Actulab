{
 "cells": [
  {
   "cell_type": "code",
   "execution_count": 19,
   "metadata": {},
   "outputs": [],
   "source": [
    "from Fairness_aware_model import FairnessAwareModel\n",
    "import pandas as pd\n",
    "import numpy as np\n",
    "import statsmodels.api as sm\n",
    "import statsmodels.formula.api as smf\n",
    "from sklearn.model_selection import train_test_split"
   ]
  },
  {
   "cell_type": "code",
   "execution_count": 20,
   "metadata": {},
   "outputs": [],
   "source": [
    "dataCar = pd.read_csv('dataCar_clean.csv') # contient le train-test split pour comparer avec R au besoin\n",
    "#clm = dataCar['clm']\n",
    "#Xtrain, test, _, _ = train_test_split(dataCar, clm, test_size=0.2)\n",
    "train=dataCar.loc[dataCar['train']==1]\n",
    "test=dataCar.loc[dataCar['train']==0]"
   ]
  },
  {
   "cell_type": "markdown",
   "metadata": {},
   "source": [
    "# Modèle baselin avec la méthode bfgs"
   ]
  },
  {
   "cell_type": "code",
   "execution_count": 21,
   "metadata": {},
   "outputs": [
    {
     "name": "stdout",
     "output_type": "stream",
     "text": [
      "                 Generalized Linear Model Regression Results                  \n",
      "==============================================================================\n",
      "Dep. Variable:                    clm   No. Observations:                54285\n",
      "Model:                            GLM   Df Residuals:                    54263\n",
      "Model Family:                Binomial   Df Model:                           21\n",
      "Link Function:                  Logit   Scale:                          1.0000\n",
      "Method:                          bfgs   Log-Likelihood:                -13469.\n",
      "Date:                Sat, 12 Nov 2022   Deviance:                       26938.\n",
      "Time:                        13:26:16   Pearson chi2:                 5.43e+04\n",
      "No. Iterations:                     0   Pseudo R-squ. (CS):           0.001365\n",
      "Covariance Type:            nonrobust                                         \n",
      "=====================================================================================\n",
      "                        coef    std err          z      P>|z|      [0.025      0.975]\n",
      "-------------------------------------------------------------------------------------\n",
      "Intercept            -2.2573      0.485     -4.658      0.000      -3.207      -1.308\n",
      "veh_body[T.CONVT]    -1.7234      0.852     -2.022      0.043      -3.394      -0.053\n",
      "veh_body[T.COUPE]    -0.3255      0.499     -0.653      0.514      -1.303       0.652\n",
      "veh_body[T.HBACK]    -0.6004      0.479     -1.254      0.210      -1.539       0.338\n",
      "veh_body[T.HDTOP]    -0.4394      0.488     -0.900      0.368      -1.396       0.517\n",
      "veh_body[T.MCARA]    -0.0393      0.569     -0.069      0.945      -1.154       1.075\n",
      "veh_body[T.MIBUS]    -0.6284      0.507     -1.238      0.216      -1.623       0.366\n",
      "veh_body[T.PANVN]    -0.3567      0.500     -0.714      0.475      -1.336       0.622\n",
      "veh_body[T.RDSTR]    -0.5375      0.881     -0.610      0.542      -2.263       1.188\n",
      "veh_body[T.SEDAN]    -0.6096      0.478     -1.275      0.202      -1.547       0.328\n",
      "veh_body[T.STNWG]    -0.5340      0.478     -1.117      0.264      -1.472       0.403\n",
      "veh_body[T.TRUCK]    -0.5162      0.488     -1.058      0.290      -1.473       0.440\n",
      "veh_body[T.UTE]      -0.7677      0.482     -1.592      0.111      -1.713       0.177\n",
      "C(veh_age)[T.2]       0.1880      0.054      3.481      0.000       0.082       0.294\n",
      "C(veh_age)[T.3]       0.1300      0.058      2.247      0.025       0.017       0.243\n",
      "C(veh_age)[T.4]       0.0480      0.068      0.710      0.478      -0.085       0.181\n",
      "area[T.B]             0.0991      0.052      1.924      0.054      -0.002       0.200\n",
      "area[T.C]             0.0558      0.047      1.192      0.233      -0.036       0.147\n",
      "area[T.D]            -0.0976      0.063     -1.547      0.122      -0.221       0.026\n",
      "area[T.E]            -0.0208      0.070     -0.299      0.765      -0.157       0.116\n",
      "area[T.F]             0.1115      0.081      1.376      0.169      -0.047       0.270\n",
      "veh_value             0.0525      0.020      2.620      0.009       0.013       0.092\n",
      "=====================================================================================\n"
     ]
    }
   ],
   "source": [
    "mod = smf.glm(formula=\"clm ~ veh_value + veh_body + C(veh_age) + area\", family=sm.families.Binomial(), data=train)\n",
    "res = mod.fit(method=\"bfgs\")\n",
    "print(res.summary()) # donne la même chose qu'en R"
   ]
  },
  {
   "cell_type": "code",
   "execution_count": 22,
   "metadata": {},
   "outputs": [],
   "source": [
    "protected_attributes = [\"gender\", \"agecat\"]\n",
    "# Standard scaling for regression\n",
    "binary_answer = dataCar[\"clm\"].values\n",
    "numclaim = dataCar[\"numclaims\"].values\n",
    "reg_claim = dataCar[\"claimcst0\"].values"
   ]
  },
  {
   "cell_type": "code",
   "execution_count": 23,
   "metadata": {},
   "outputs": [],
   "source": [
    "def hot_encoder(data):\n",
    "    categorical_cols = []\n",
    "    for column in data.columns:\n",
    "            if data[column].dtype == object:\n",
    "                categorical_cols.append(column)\n",
    "\n",
    "    to_return = pd.get_dummies(data, columns = categorical_cols)\n",
    "    return to_return\n",
    "\n",
    "dataCar_encoded = hot_encoder(dataCar)\n",
    "\n",
    "dataCar_encoded = dataCar_encoded.drop([\"clm\", \"numclaims\", \"claimcst0\", \"veh_body_BUS\",\"area_A\",\"exposure\"], axis=1)"
   ]
  },
  {
   "cell_type": "code",
   "execution_count": 6,
   "metadata": {},
   "outputs": [],
   "source": [
    "train_encoded = dataCar_encoded.loc[dataCar_encoded['train']==1]\n",
    "test_encoded = dataCar_encoded.loc[dataCar_encoded['train']==0]\n",
    "y = dataCar['clm']\n",
    "\n",
    "y_train = dataCar.loc[dataCar['train']==1, 'clm']\n",
    "y_test = dataCar.loc[dataCar['train']==0, 'clm']\n",
    "X_train_encoded = train_encoded.drop([\"train\"], axis=1)\n",
    "X_test_encoded = test_encoded.drop([\"train\"], axis=1)"
   ]
  },
  {
   "cell_type": "code",
   "execution_count": 7,
   "metadata": {},
   "outputs": [
    {
     "name": "stdout",
     "output_type": "stream",
     "text": [
      "-7547899326196230.0\n",
      "-7547899326196230.0\n"
     ]
    }
   ],
   "source": [
    "# question : à quoi ça sert de faire reshape?\n",
    "beta = np.ones(X_train_encoded.shape[1])\n",
    "predicted_x = X_train_encoded @ beta\n",
    "print(np.sum(y_train.values.reshape(-1,1) * predicted_x.values.reshape(-1,1) - np.exp(predicted_x.values.reshape(-1,1))))\n",
    "print(np.sum(y_train * predicted_x - np.exp(predicted_x)))"
   ]
  },
  {
   "cell_type": "code",
   "execution_count": 10,
   "metadata": {},
   "outputs": [
    {
     "data": {
      "text/plain": [
       "array(['veh_value', 'veh_age', 'veh_body_CONVT', 'veh_body_COUPE',\n",
       "       'veh_body_HBACK', 'veh_body_HDTOP', 'veh_body_MCARA',\n",
       "       'veh_body_MIBUS', 'veh_body_PANVN', 'veh_body_RDSTR',\n",
       "       'veh_body_SEDAN', 'veh_body_STNWG', 'veh_body_TRUCK',\n",
       "       'veh_body_UTE', 'area_B', 'area_C', 'area_D', 'area_E', 'area_F'],\n",
       "      dtype=object)"
      ]
     },
     "execution_count": 10,
     "metadata": {},
     "output_type": "execute_result"
    }
   ],
   "source": [
    "X_train_encoded.columns.values"
   ]
  },
  {
   "cell_type": "code",
   "execution_count": 8,
   "metadata": {},
   "outputs": [
    {
     "ename": "IndexError",
     "evalue": "index 0 is out of bounds for axis 0 with size 0",
     "output_type": "error",
     "traceback": [
      "\u001b[0;31m---------------------------------------------------------------------------\u001b[0m",
      "\u001b[0;31mIndexError\u001b[0m                                Traceback (most recent call last)",
      "\u001b[0;32m/tmp/ipykernel_28900/507365759.py\u001b[0m in \u001b[0;36m<module>\u001b[0;34m\u001b[0m\n\u001b[0;32m----> 1\u001b[0;31m \u001b[0mprotected_attributes\u001b[0m \u001b[0;34m=\u001b[0m \u001b[0;34m[\u001b[0m\u001b[0mnp\u001b[0m\u001b[0;34m.\u001b[0m\u001b[0mwhere\u001b[0m\u001b[0;34m(\u001b[0m\u001b[0mdataCar\u001b[0m\u001b[0;34m.\u001b[0m\u001b[0mcolumns\u001b[0m\u001b[0;34m.\u001b[0m\u001b[0mvalues\u001b[0m \u001b[0;34m==\u001b[0m \u001b[0mi\u001b[0m\u001b[0;34m)\u001b[0m\u001b[0;34m[\u001b[0m\u001b[0;36m0\u001b[0m\u001b[0;34m]\u001b[0m\u001b[0;34m[\u001b[0m\u001b[0;36m0\u001b[0m\u001b[0;34m]\u001b[0m \u001b[0;32mfor\u001b[0m \u001b[0mi\u001b[0m \u001b[0;32min\u001b[0m \u001b[0mprotected_attributes\u001b[0m\u001b[0;34m]\u001b[0m\u001b[0;34m\u001b[0m\u001b[0;34m\u001b[0m\u001b[0m\n\u001b[0m\u001b[1;32m      2\u001b[0m \u001b[0mfam\u001b[0m \u001b[0;34m=\u001b[0m \u001b[0mFairnessAwareModel\u001b[0m\u001b[0;34m(\u001b[0m\u001b[0mregularization\u001b[0m\u001b[0;34m=\u001b[0m\u001b[0;36m0\u001b[0m\u001b[0;34m,\u001b[0m \u001b[0mprotected_attributes\u001b[0m\u001b[0;34m=\u001b[0m\u001b[0mprotected_attributes\u001b[0m\u001b[0;34m,\u001b[0m \u001b[0mfamily\u001b[0m\u001b[0;34m=\u001b[0m\u001b[0;34m\"binomial\"\u001b[0m\u001b[0;34m)\u001b[0m\u001b[0;34m\u001b[0m\u001b[0;34m\u001b[0m\u001b[0m\n\u001b[1;32m      3\u001b[0m \u001b[0mfam\u001b[0m\u001b[0;34m.\u001b[0m\u001b[0mfit\u001b[0m\u001b[0;34m(\u001b[0m\u001b[0mnp\u001b[0m\u001b[0;34m.\u001b[0m\u001b[0marray\u001b[0m\u001b[0;34m(\u001b[0m\u001b[0mX_train_encoded\u001b[0m\u001b[0;34m)\u001b[0m\u001b[0;34m,\u001b[0m \u001b[0my_train\u001b[0m\u001b[0;34m.\u001b[0m\u001b[0mvalues\u001b[0m\u001b[0;34m)\u001b[0m \u001b[0;31m# je manque de mémoire vive??? (32 gb)\u001b[0m\u001b[0;34m\u001b[0m\u001b[0;34m\u001b[0m\u001b[0m\n",
      "\u001b[0;32m/tmp/ipykernel_28900/507365759.py\u001b[0m in \u001b[0;36m<listcomp>\u001b[0;34m(.0)\u001b[0m\n\u001b[0;32m----> 1\u001b[0;31m \u001b[0mprotected_attributes\u001b[0m \u001b[0;34m=\u001b[0m \u001b[0;34m[\u001b[0m\u001b[0mnp\u001b[0m\u001b[0;34m.\u001b[0m\u001b[0mwhere\u001b[0m\u001b[0;34m(\u001b[0m\u001b[0mdataCar\u001b[0m\u001b[0;34m.\u001b[0m\u001b[0mcolumns\u001b[0m\u001b[0;34m.\u001b[0m\u001b[0mvalues\u001b[0m \u001b[0;34m==\u001b[0m \u001b[0mi\u001b[0m\u001b[0;34m)\u001b[0m\u001b[0;34m[\u001b[0m\u001b[0;36m0\u001b[0m\u001b[0;34m]\u001b[0m\u001b[0;34m[\u001b[0m\u001b[0;36m0\u001b[0m\u001b[0;34m]\u001b[0m \u001b[0;32mfor\u001b[0m \u001b[0mi\u001b[0m \u001b[0;32min\u001b[0m \u001b[0mprotected_attributes\u001b[0m\u001b[0;34m]\u001b[0m\u001b[0;34m\u001b[0m\u001b[0;34m\u001b[0m\u001b[0m\n\u001b[0m\u001b[1;32m      2\u001b[0m \u001b[0mfam\u001b[0m \u001b[0;34m=\u001b[0m \u001b[0mFairnessAwareModel\u001b[0m\u001b[0;34m(\u001b[0m\u001b[0mregularization\u001b[0m\u001b[0;34m=\u001b[0m\u001b[0;36m0\u001b[0m\u001b[0;34m,\u001b[0m \u001b[0mprotected_attributes\u001b[0m\u001b[0;34m=\u001b[0m\u001b[0mprotected_attributes\u001b[0m\u001b[0;34m,\u001b[0m \u001b[0mfamily\u001b[0m\u001b[0;34m=\u001b[0m\u001b[0;34m\"binomial\"\u001b[0m\u001b[0;34m)\u001b[0m\u001b[0;34m\u001b[0m\u001b[0;34m\u001b[0m\u001b[0m\n\u001b[1;32m      3\u001b[0m \u001b[0mfam\u001b[0m\u001b[0;34m.\u001b[0m\u001b[0mfit\u001b[0m\u001b[0;34m(\u001b[0m\u001b[0mnp\u001b[0m\u001b[0;34m.\u001b[0m\u001b[0marray\u001b[0m\u001b[0;34m(\u001b[0m\u001b[0mX_train_encoded\u001b[0m\u001b[0;34m)\u001b[0m\u001b[0;34m,\u001b[0m \u001b[0my_train\u001b[0m\u001b[0;34m.\u001b[0m\u001b[0mvalues\u001b[0m\u001b[0;34m)\u001b[0m \u001b[0;31m# je manque de mémoire vive??? (32 gb)\u001b[0m\u001b[0;34m\u001b[0m\u001b[0;34m\u001b[0m\u001b[0m\n",
      "\u001b[0;31mIndexError\u001b[0m: index 0 is out of bounds for axis 0 with size 0"
     ]
    }
   ],
   "source": [
    "protected_attributes = [np.where(dataCar.columns.values == i)[0][0] for i in protected_attributes] # position des colonnes d'attributs protégés dans les données\n",
    "fam = FairnessAwareModel(regularization=0, protected_attributes=protected_attributes, family=\"binomial\")\n",
    "fam.fit(np.array(X_train_encoded), y_train.values) # je manque de mémoire vive??? (32 gb)"
   ]
  }
 ],
 "metadata": {
  "kernelspec": {
   "display_name": "Python 3.9.13 ('actulab')",
   "language": "python",
   "name": "python3"
  },
  "language_info": {
   "codemirror_mode": {
    "name": "ipython",
    "version": 3
   },
   "file_extension": ".py",
   "mimetype": "text/x-python",
   "name": "python",
   "nbconvert_exporter": "python",
   "pygments_lexer": "ipython3",
   "version": "3.9.13"
  },
  "orig_nbformat": 4,
  "vscode": {
   "interpreter": {
    "hash": "be9bacc2144169552f8aa68a7e2d5fa413cf6ea98a4dca6b00db2e208c4acfe4"
   }
  }
 },
 "nbformat": 4,
 "nbformat_minor": 2
}
